{
 "cells": [
  {
   "cell_type": "code",
   "execution_count": 42,
   "id": "395a1fd0",
   "metadata": {},
   "outputs": [],
   "source": [
    "#imports\n",
    "from numpy import dot\n",
    "from numpy.linalg import norm\n",
    "\n"
   ]
  },
  {
   "cell_type": "code",
   "execution_count": 43,
   "id": "f505c6b7",
   "metadata": {},
   "outputs": [
    {
     "name": "stdout",
     "output_type": "stream",
     "text": [
      "enter the first sentence:hey man how are you today I had a long day\n",
      "enter the second sentence:hello bro how are you I had a long shot \n"
     ]
    }
   ],
   "source": [
    "# input 2 sentences \n",
    "\n",
    "sent1 = input (\"enter the first sentence:\")\n",
    "sent1 = (sent1.lower().split())\n",
    "sent2 = input (\"enter the second sentence:\")\n",
    "sent2 = (sent2.lower().split())\n",
    "sent3 = (sent1 + sent2)\n"
   ]
  },
  {
   "cell_type": "code",
   "execution_count": 44,
   "id": "0ffd5a1c",
   "metadata": {},
   "outputs": [],
   "source": [
    "#set sentence3\n",
    "unique_wrd=set(sent3)"
   ]
  },
  {
   "cell_type": "code",
   "execution_count": 45,
   "id": "ad1d45c8",
   "metadata": {},
   "outputs": [],
   "source": [
    "sent1_vect=[]\n",
    "sent2_vect=[]\n",
    "    \n",
    "    #create vectors using the words comparing with the unique set of words\n",
    "    \n",
    "for w in unique_wrd:\n",
    "    if w in sent1:\n",
    "        sent1_vect.append(1)\n",
    "    else:\n",
    "        sent1_vect.append(0)     \n",
    "    if w in sent2:\n",
    "        sent2_vect.append(1)        \n",
    "    else:\n",
    "        sent2_vect.append(0)\n",
    "        "
   ]
  },
  {
   "cell_type": "code",
   "execution_count": 46,
   "id": "b4b73e55",
   "metadata": {},
   "outputs": [
    {
     "data": {
      "text/plain": [
       "[1, 1, 1, 1, 1, 1, 1, 0, 1, 1, 0, 1, 0, 1]"
      ]
     },
     "execution_count": 46,
     "metadata": {},
     "output_type": "execute_result"
    }
   ],
   "source": [
    "sent1_vect"
   ]
  },
  {
   "cell_type": "code",
   "execution_count": 47,
   "id": "891e58e1",
   "metadata": {},
   "outputs": [
    {
     "data": {
      "text/plain": [
       "[1, 1, 0, 1, 1, 0, 1, 1, 1, 1, 1, 0, 1, 0]"
      ]
     },
     "execution_count": 47,
     "metadata": {},
     "output_type": "execute_result"
    }
   ],
   "source": [
    "sent2_vect"
   ]
  },
  {
   "cell_type": "code",
   "execution_count": 48,
   "id": "0affd506",
   "metadata": {},
   "outputs": [
    {
     "name": "stdout",
     "output_type": "stream",
     "text": [
      "['hey', 'man', 'how', 'are', 'you', 'today', 'i', 'had', 'a', 'long', 'day', 'hello', 'bro', 'shot']\n"
     ]
    }
   ],
   "source": [
    "#vector3\n",
    "vector3 = sent3\n",
    "lst3 = list()\n",
    "for line in sent3:\n",
    "    line = line.rstrip()\n",
    "    words = line.split(' ')\n",
    "    for word in words:\n",
    "        if word in lst3: continue\n",
    "        lst3 = lst3 + words\n",
    "print (lst3)"
   ]
  },
  {
   "cell_type": "code",
   "execution_count": 49,
   "id": "d1d63f0e",
   "metadata": {},
   "outputs": [],
   "source": [
    "cosine_similarity= np.dot(sent1_vect,sent2_vect)/(np.linalg.norm(sent1_vect)*np.linalg.norm(sent2_vect))"
   ]
  },
  {
   "cell_type": "code",
   "execution_count": 50,
   "id": "f26a4bce",
   "metadata": {},
   "outputs": [
    {
     "name": "stdout",
     "output_type": "stream",
     "text": [
      "0.6674238124719146\n"
     ]
    }
   ],
   "source": [
    "print(cosine_similarity)"
   ]
  },
  {
   "cell_type": "code",
   "execution_count": null,
   "id": "f6220fc7",
   "metadata": {},
   "outputs": [],
   "source": []
  }
 ],
 "metadata": {
  "kernelspec": {
   "display_name": "Python 3",
   "language": "python",
   "name": "python3"
  },
  "language_info": {
   "codemirror_mode": {
    "name": "ipython",
    "version": 3
   },
   "file_extension": ".py",
   "mimetype": "text/x-python",
   "name": "python",
   "nbconvert_exporter": "python",
   "pygments_lexer": "ipython3",
   "version": "3.8.8"
  }
 },
 "nbformat": 4,
 "nbformat_minor": 5
}
